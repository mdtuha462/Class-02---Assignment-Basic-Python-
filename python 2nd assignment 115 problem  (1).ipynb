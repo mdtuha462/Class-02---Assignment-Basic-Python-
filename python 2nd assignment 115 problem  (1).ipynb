{
 "cells": [
  {
   "cell_type": "markdown",
   "id": "60d20b09-986c-4942-b879-c4bd73bea901",
   "metadata": {},
   "source": [
    "# 1. Variable Swap: Write a Python program to swap the values of two variables without using a temporary variable."
   ]
  },
  {
   "cell_type": "markdown",
   "id": "90dbf648-4c98-449d-b395-9c2ca7c246bb",
   "metadata": {},
   "source": [
    "# >>> swap the values Using Addition and Subtraction"
   ]
  },
  {
   "cell_type": "code",
   "execution_count": 30,
   "id": "400cd720-3c2d-4711-a588-bff6ce438bdc",
   "metadata": {},
   "outputs": [
    {
     "name": "stdout",
     "output_type": "stream",
     "text": [
      "Before Swap:\n",
      "a = 5\n",
      "b = 10\n",
      "After swap:\n",
      "a = 10\n",
      "b = 5\n"
     ]
    }
   ],
   "source": [
    "# Initialize two variables\n",
    "a = 5\n",
    "b = 10\n",
    "\n",
    "# print the initial values\n",
    "print(\"Before Swap:\")\n",
    "print(\"a =\", a)\n",
    "print(\"b =\", b)\n",
    "\n",
    "# swap the values without using a temporary variable\n",
    "a = a + b # 5+10 = 15\n",
    "b = a - b # 15-10 = 5\n",
    "a = a - b # 15-5 = 10\n",
    "\n",
    "# print the swapped values\n",
    "print(\"After swap:\")\n",
    "print(\"a =\",a)\n",
    "print(\"b =\",b)"
   ]
  },
  {
   "cell_type": "markdown",
   "id": "c6fe68d8-36bb-42b7-b825-21fb38009cd2",
   "metadata": {},
   "source": [
    "# >>> Swap the values using tuple unpacking"
   ]
  },
  {
   "cell_type": "code",
   "execution_count": 32,
   "id": "3b619c50-dd66-4610-bd7c-75709a896456",
   "metadata": {},
   "outputs": [
    {
     "name": "stdout",
     "output_type": "stream",
     "text": [
      "Before swap:\n",
      "a = 5\n",
      "b = 10\n",
      "After swap:\n",
      "a = 10\n",
      "b = 5\n"
     ]
    }
   ],
   "source": [
    "# Initialize two variables\n",
    "a = 5\n",
    "b = 10\n",
    "\n",
    "# Print the initial values\n",
    "print(\"Before swap:\")\n",
    "print(\"a =\", a)\n",
    "print(\"b =\", b)\n",
    "\n",
    "# Swap the values using tuple unpacking\n",
    "a, b = b, a\n",
    "\n",
    "# Print the swapped values\n",
    "print(\"After swap:\")\n",
    "print(\"a =\", a)\n",
    "print(\"b =\", b)\n"
   ]
  },
  {
   "cell_type": "markdown",
   "id": "02fe2593-25d6-4bde-ac8d-3587f3848ae4",
   "metadata": {},
   "source": [
    "# 2. Even or Odd: Write a Python program that takes an integer as input and prints whether it is even or odd."
   ]
  },
  {
   "cell_type": "code",
   "execution_count": 50,
   "id": "e5ef8e5f-b09d-458d-91b2-bb5d00c7fb7d",
   "metadata": {},
   "outputs": [
    {
     "name": "stdin",
     "output_type": "stream",
     "text": [
      "Enter an integer:  30\n"
     ]
    },
    {
     "name": "stdout",
     "output_type": "stream",
     "text": [
      "30 is even\n"
     ]
    }
   ],
   "source": [
    "# Take an integer as input from the user\n",
    "num = int(input(\"Enter an integer: \"))\n",
    "\n",
    "# Check if the number is even or odd\n",
    "if num % 2 == 0:\n",
    "    print(f\"{num} is even\")\n",
    "else:\n",
    "    print(f\"{num} is odd\")"
   ]
  },
  {
   "cell_type": "markdown",
   "id": "bbf159a4-5c8a-4bde-897a-d73108dff6ef",
   "metadata": {},
   "source": [
    "# 3. String Reverse: Write a Python function to reverse a given string and return the reversed string."
   ]
  },
  {
   "cell_type": "code",
   "execution_count": 55,
   "id": "c659a051-a9de-49b6-859f-544c4909f6ca",
   "metadata": {},
   "outputs": [
    {
     "name": "stdout",
     "output_type": "stream",
     "text": [
      "The reversed string is: gnirtswen\n"
     ]
    }
   ],
   "source": [
    "def reverse_string(s):\n",
    "    # Use slicing to reverse the string\n",
    "    reversed_s = s[::-1] # star,stop,reversed\n",
    "    return reversed_s\n",
    "\n",
    "# Example usage with a new string\n",
    "input_string = \"newstring\"\n",
    "reversed_string = reverse_string(input_string)\n",
    "print(\"The reversed string is:\", reversed_string)"
   ]
  },
  {
   "cell_type": "markdown",
   "id": "fc12a997-7b2e-429a-9061-c2046d44f9ac",
   "metadata": {},
   "source": [
    "# 4. Type Conversion: Given a list of integers, write a Python program to convert each element of the list to a string."
   ]
  },
  {
   "cell_type": "code",
   "execution_count": 2,
   "id": "84da5037-53ca-4446-8b8f-f966fc4d0591",
   "metadata": {},
   "outputs": [
    {
     "name": "stdout",
     "output_type": "stream",
     "text": [
      "['10', '20', '30', '40', '50', '60', '70', '80', '90', '100']\n"
     ]
    }
   ],
   "source": [
    "int_list = (10,20,30,40,50,60,70,80,90,100)\n",
    "string_list = list(map(str,int_list))\n",
    "print(string_list)               "
   ]
  },
  {
   "cell_type": "markdown",
   "id": "3a0fc825-0b94-4456-b5b0-a3b95e6b37f1",
   "metadata": {},
   "source": [
    "# 5. Temperature Converter: Write a Python program that converts a temperature in Celsius to Fahrenheit. Take the Celsius temperature as input from the user."
   ]
  },
  {
   "cell_type": "code",
   "execution_count": 11,
   "id": "98306734-e455-423a-8b53-50e4856308a8",
   "metadata": {},
   "outputs": [
    {
     "name": "stdin",
     "output_type": "stream",
     "text": [
      "Enter temperature in Celsius:  50\n"
     ]
    },
    {
     "name": "stdout",
     "output_type": "stream",
     "text": [
      "50.0 degrees Celsius is equal to 122.0 degrees Fahrenheit.\n"
     ]
    }
   ],
   "source": [
    "# Take Celsius temperature as input from the user\n",
    "celsius = float(input(\"Enter temperature in Celsius: \"))\n",
    "\n",
    "# Convert Celsius to Fahrenheit using the formula: F = C * (9/5) + 32\n",
    "fahrenheit = (celsius * 9/5) + 32\n",
    "\n",
    "# Print the result\n",
    "print(f\"{celsius} degrees Celsius is equal to {fahrenheit} degrees Fahrenheit.\")\n"
   ]
  },
  {
   "cell_type": "markdown",
   "id": "a8ad568e-1b38-49ac-bd2c-b94e3430461f",
   "metadata": {},
   "source": [
    "# 6. Data Type Checker: Write a Python function that takes a variable as input and returns the data type of the variable as a string (e.g., “int”, “float”, “str”, “list”, etc.)."
   ]
  },
  {
   "cell_type": "code",
   "execution_count": 1,
   "id": "c7b74c0f-fab8-4b08-b6ad-4ebb949778b1",
   "metadata": {},
   "outputs": [
    {
     "name": "stdout",
     "output_type": "stream",
     "text": [
      "int\n",
      "float\n",
      "str\n",
      "list\n"
     ]
    }
   ],
   "source": [
    "def check_data_type(variable):\n",
    "    return type(variable).__name__\n",
    "\n",
    "# Example usage\n",
    "print(check_data_type(42))          # Output: int\n",
    "print(check_data_type(3.14))        # Output: float\n",
    "print(check_data_type(\"hello\"))     # Output: str\n",
    "print(check_data_type([1, 2, 3]))   # Output: list\n"
   ]
  },
  {
   "cell_type": "markdown",
   "id": "c2092919-7e6f-4b51-bcb6-e22e9c9a59ba",
   "metadata": {},
   "source": [
    "# 7. String Palindrome: Write a Python function to check if a given string is a palindrome or not "
   ]
  },
  {
   "cell_type": "code",
   "execution_count": 12,
   "id": "6bea41de-054d-4c76-a51a-d4937342b0ab",
   "metadata": {},
   "outputs": [
    {
     "name": "stdout",
     "output_type": "stream",
     "text": [
      "Yes\n"
     ]
    }
   ],
   "source": [
    "# function which return reverse of a string\n",
    "\n",
    "def isPalindrome(string):\n",
    "    return string == string[::-1]\n",
    "\n",
    "\n",
    "# Driver code\n",
    "string = \"malayalam\"\n",
    "ans = isPalindrome(string)\n",
    "\n",
    "if ans:\n",
    "    print(\"Yes\")\n",
    "else:\n",
    "    print(\"No\")"
   ]
  },
  {
   "cell_type": "markdown",
   "id": "1d533260-1f03-4f6d-b7d1-7887bb6d22fe",
   "metadata": {},
   "source": [
    "# 8. String Reversal with Slicing: Write a Python function to reverse a given string using slicing."
   ]
  },
  {
   "cell_type": "code",
   "execution_count": 15,
   "id": "7d9772e4-5e06-4ea4-b93e-6a3892070656",
   "metadata": {},
   "outputs": [
    {
     "name": "stdout",
     "output_type": "stream",
     "text": [
      "The reverse of 'hello' is 'olleh'\n"
     ]
    }
   ],
   "source": [
    "def reverse_string(s):\n",
    "    # Reverse the string using slicing\n",
    "    return s[::-1]\n",
    "\n",
    "# Example usage\n",
    "input_string = \"hello\"\n",
    "reversed_string = reverse_string(input_string)\n",
    "print(f\"The reverse of '{input_string}' is '{reversed_string}'\")"
   ]
  },
  {
   "cell_type": "markdown",
   "id": "fb9859a7-ca86-43f6-bcbe-82f777584345",
   "metadata": {},
   "source": [
    "# 9. String Concatenation: Write a Python program that takes two strings as input an  concatenates them into a single string without using the `+` operator."
   ]
  },
  {
   "cell_type": "code",
   "execution_count": 17,
   "id": "7b71e225-7139-4f34-9954-4d46c6b8823f",
   "metadata": {},
   "outputs": [
    {
     "name": "stdin",
     "output_type": "stream",
     "text": [
      "Enter the first string:  h\n",
      "Enter the second string:  h\n"
     ]
    },
    {
     "name": "stdout",
     "output_type": "stream",
     "text": [
      "Concatenated string: hh\n"
     ]
    }
   ],
   "source": [
    "# Take two strings as input from the user\n",
    "str1 = input(\"Enter the first string: \")\n",
    "str2 = input(\"Enter the second string: \")\n",
    "\n",
    "# Concatenate using f-string formatting\n",
    "concatenated_string = f\"{str1}{str2}\"\n",
    "\n",
    "# Print the result\n",
    "print(\"Concatenated string:\", concatenated_string)\n"
   ]
  },
  {
   "cell_type": "markdown",
   "id": "01f5c4d9-c614-48d4-978d-2e8d0c97a8b4",
   "metadata": {},
   "source": [
    "# 10. Typecasting Challenge: Given three variables: `a = ‘100’`, `b = 25`, and `c = ‘10.5’`, write a Python program to perform the following operations and print the results: – Convert `a` to an integer and add it to `b`. – Convert `c` to a float and subtract it from the result of the first operation. – Convert the final result to a string and concatenate it with the string ” is the answer.”"
   ]
  },
  {
   "cell_type": "code",
   "execution_count": 13,
   "id": "6677d2be-7c05-456c-9f68-d581b0a59db9",
   "metadata": {},
   "outputs": [
    {
     "name": "stdout",
     "output_type": "stream",
     "text": [
      "114.5 is the answer\n"
     ]
    }
   ],
   "source": [
    "# Given variables\n",
    "a = '100'\n",
    "b = 25\n",
    "c = '10.5'\n",
    "\n",
    "# Step 1: Convert `a` to an integer and add it to `b`\n",
    "a_int = int(a)\n",
    "result = a_int + b\n",
    "\n",
    "# Step 2: Convert `c` to a float and subtract it from the result of the first operation\n",
    "c_float = float(c)\n",
    "final_result = result - c_float\n",
    "\n",
    "# Step 3: Convert the final result to a string and concatenate it with the string \" is the answer\"\n",
    "final_string = str(final_result) + \" is the answer\"\n",
    "\n",
    "# Print the result\n",
    "print(final_string)\n"
   ]
  },
  {
   "cell_type": "markdown",
   "id": "be4ff553-649c-481a-b861-582e65140481",
   "metadata": {},
   "source": [
    "# 11. Positive, Negative, or Zero: Write a Python program that takes a number as input and prints whether it is positive, negative, or zero."
   ]
  },
  {
   "cell_type": "code",
   "execution_count": 30,
   "id": "95b8e84f-aec9-49be-9815-61f7d060f2c5",
   "metadata": {},
   "outputs": [
    {
     "name": "stdin",
     "output_type": "stream",
     "text": [
      "Enter a number:  0\n"
     ]
    },
    {
     "name": "stdout",
     "output_type": "stream",
     "text": [
      "0.0 is zero\n"
     ]
    }
   ],
   "source": [
    "# Take a number as input from the user\n",
    "number = float(input(\"Enter a number: \"))\n",
    "\n",
    "# Check if the number is positive, negative, or zero\n",
    "if number > 0:\n",
    "    print(f\"{number} is positive\")\n",
    "elif number < 0:\n",
    "    print(f\"{number} is negative\")\n",
    "else:\n",
    "    print(f\"{number} is zero\")\n"
   ]
  },
  {
   "cell_type": "markdown",
   "id": "d58f317d-c50e-4202-8803-d0a85926cd58",
   "metadata": {},
   "source": [
    "# 12. Largest of Three Numbers: Write a Python program that takes three numbers as input and prints the largest among them."
   ]
  },
  {
   "cell_type": "code",
   "execution_count": 53,
   "id": "ea96338d-5a1f-4b5b-a3e9-8ad0142da560",
   "metadata": {},
   "outputs": [
    {
     "name": "stdin",
     "output_type": "stream",
     "text": [
      "Enter the first number:  10\n",
      "Enter the second number:  20\n",
      "Enter the third number:  30\n"
     ]
    },
    {
     "name": "stdout",
     "output_type": "stream",
     "text": [
      "The largest number among 10.0, 20.0, and 30.0 is 30.0\n"
     ]
    }
   ],
   "source": [
    "# Take three numbers as input from the user\n",
    "num1 = float(input(\"Enter the first number: \"))\n",
    "num2 = float(input(\"Enter the second number: \"))\n",
    "num3 = float(input(\"Enter the third number: \"))\n",
    "\n",
    "# Check which number is the largest\n",
    "if num1 >= num2 and num1 >= num3:\n",
    "    largest = num1\n",
    "elif num2 >= num1 and num2 >= num3:\n",
    "    largest = num2\n",
    "else:\n",
    "    largest = num3\n",
    "\n",
    "# Print the result\n",
    "print(f\"The largest number among {num1}, {num2}, and {num3} is {largest}\")\n"
   ]
  },
  {
   "cell_type": "markdown",
   "id": "ce252faf-72f4-4e74-83a4-06c35926b02a",
   "metadata": {},
   "source": [
    "# 13. Leap Year Checker: Write a Python program that takes a year as input and determines if it is a leap year or not."
   ]
  },
  {
   "cell_type": "code",
   "execution_count": 31,
   "id": "47cb6183-d859-4d3d-ad4c-26a20ab2aa0f",
   "metadata": {},
   "outputs": [
    {
     "name": "stdin",
     "output_type": "stream",
     "text": [
      "Enter a year:  2030\n"
     ]
    },
    {
     "name": "stdout",
     "output_type": "stream",
     "text": [
      "2030 is not a leap year\n"
     ]
    }
   ],
   "source": [
    "# Take a year as input from the user\n",
    "year = int(input(\"Enter a year: \"))\n",
    "\n",
    "# Check if the year is a leap year\n",
    "if (year % 4 == 0 and year % 100 != 0) or (year % 400 == 0):\n",
    "    print(f\"{year} is a leap year\")\n",
    "else:\n",
    "    print(f\"{year} is not a leap year\")"
   ]
  },
  {
   "cell_type": "markdown",
   "id": "0de76b7c-e2ae-4ad3-a9c1-0ee7950e3f09",
   "metadata": {},
   "source": [
    "# 14. Grades Classification: Write a Python program that takes a student’s percentage as input and prints their corresponding grade according to the following criteria: – 90% or above: A+ – 80-89%: A – 70-79%: B – 60-69%: C – Below 60%: Fai"
   ]
  },
  {
   "cell_type": "code",
   "execution_count": 42,
   "id": "adc87fa6-322f-4edc-9bc8-77574304c0fa",
   "metadata": {},
   "outputs": [
    {
     "name": "stdin",
     "output_type": "stream",
     "text": [
      "Enter the student's percentage:  56\n"
     ]
    },
    {
     "name": "stdout",
     "output_type": "stream",
     "text": [
      "The student's grade is: Fail\n"
     ]
    }
   ],
   "source": [
    "# Take the student's percentage as input\n",
    "percentage = float(input(\"Enter the student's percentage: \"))\n",
    "\n",
    "# Determine the grade based on the percentage\n",
    "if percentage >= 90:\n",
    "    grade = \"A+\"\n",
    "elif percentage >= 80:\n",
    "    grade = \"A\"\n",
    "elif percentage >= 70:\n",
    "    grade = \"B\"\n",
    "elif percentage >= 60:\n",
    "    grade = \"C\"\n",
    "else:\n",
    "    grade = \"Fail\"\n",
    "\n",
    "# Print the result\n",
    "print(f\"The student's grade is: {grade}\")"
   ]
  },
  {
   "cell_type": "markdown",
   "id": "dcccc937-a58f-4fb3-b650-58bcca8eae7d",
   "metadata": {},
   "source": [
    "# 15. Vowel or Consonant: Write a Python program that takes a single character as input and determines whether it is a vowel or a consonant."
   ]
  },
  {
   "cell_type": "code",
   "execution_count": 48,
   "id": "29271c18-740b-40e5-a16f-26b16833482b",
   "metadata": {},
   "outputs": [
    {
     "name": "stdin",
     "output_type": "stream",
     "text": [
      "Enter a single character:  G\n"
     ]
    },
    {
     "name": "stdout",
     "output_type": "stream",
     "text": [
      "g is a consonant\n"
     ]
    }
   ],
   "source": [
    "# Take a single character as input from the user\n",
    "char = input(\"Enter a single character: \").lower()\n",
    "\n",
    "# Check if the input is a single alphabetic character\n",
    "if len(char) == 1 and char.isalpha():\n",
    "    # Check if the character is a vowel\n",
    "    if char in 'aeiou':\n",
    "        print(f\"{char} is a vowel\")\n",
    "    else:\n",
    "        print(f\"{char} is a consonant\")\n",
    "else:\n",
    "    print(\"Please enter a single alphabetic character\")"
   ]
  },
  {
   "cell_type": "markdown",
   "id": "4b442934-b24f-46e3-8a6c-f642e1980d50",
   "metadata": {},
   "source": [
    "# 16. Time Classification: Write a Python program that takes the time in hours (24- hour format) as input and prints “Good Morning”, “Good Afternoon”, “Good Evening”, or “Good Night” based on the time."
   ]
  },
  {
   "cell_type": "code",
   "execution_count": 5,
   "id": "e6cfd8fd-a471-4264-804c-bbd63e7bfaad",
   "metadata": {},
   "outputs": [
    {
     "name": "stdin",
     "output_type": "stream",
     "text": [
      "Enter the time in hours (24-hour format):  4\n"
     ]
    },
    {
     "name": "stdout",
     "output_type": "stream",
     "text": [
      "Good Night\n"
     ]
    }
   ],
   "source": [
    "## Take the time in hours as input from the user\n",
    "time = int(input(\"Enter the time in hours (24-hour format): \"))\n",
    "\n",
    "# Determine the appropriate greeting\n",
    "if 5 <= time < 12:\n",
    "    greeting = \"Good Morning\"\n",
    "elif 12 <= time < 17:\n",
    "    greeting = \"Good Afternoon\"\n",
    "elif 17 <= time < 21:\n",
    "    greeting = \"Good Evening\"\n",
    "else:\n",
    "    greeting = \"Good Night\"\n",
    "\n",
    "# Print the greeting\n",
    "print(greeting)\n"
   ]
  },
  {
   "cell_type": "markdown",
   "id": "04467ad2-c30a-4ef4-bf24-2f2eb3030df3",
   "metadata": {},
   "source": [
    "# 17. Triangle Type Checker: Write a Python program that takes three sides of a triangle as input and determines whether it forms an equilateral, isosceles, or Contact us scalene triangle.\n"
   ]
  },
  {
   "cell_type": "code",
   "execution_count": 8,
   "id": "93564367-396f-4d03-bc59-bc65587b51ee",
   "metadata": {},
   "outputs": [
    {
     "name": "stdin",
     "output_type": "stream",
     "text": [
      "Enter the length of the first side:  2\n",
      "Enter the length of the second side:  2\n",
      "Enter the length of the third side:  2\n"
     ]
    },
    {
     "name": "stdout",
     "output_type": "stream",
     "text": [
      "The triangle is Equilateral.\n"
     ]
    }
   ],
   "source": [
    "# Take the lengths of the three sides as input from the user\n",
    "side1 = float(input(\"Enter the length of the first side: \"))\n",
    "side2 = float(input(\"Enter the length of the second side: \"))\n",
    "side3 = float(input(\"Enter the length of the third side: \"))\n",
    "\n",
    "# Check if the input values form a valid triangle\n",
    "if (side1 + side2 > side3) and (side1 + side3 > side2) and (side2 + side3 > side1):\n",
    "    # Determine the type of the triangle\n",
    "    if side1 == side2 == side3:\n",
    "        triangle_type = \"Equilateral\"\n",
    "    elif side1 == side2 or side1 == side3 or side2 == side3:\n",
    "        triangle_type = \"Isosceles\"\n",
    "    else:\n",
    "        triangle_type = \"Scalene\"\n",
    "\n",
    "    print(f\"The triangle is {triangle_type}.\")\n",
    "else:\n",
    "    print(\"The lengths provided do not form a valid triangle.\")\n"
   ]
  },
  {
   "cell_type": "markdown",
   "id": "51605ed1-725d-4123-9d3d-27919b105bc5",
   "metadata": {},
   "source": [
    "# 18. Quadratic Equation Solver: Write a Python program that takes the coefficients (a, b, c) of a quadratic equation as input and calculates and prints the real roots (if they exist) or a message indicating the complex roots."
   ]
  },
  {
   "cell_type": "code",
   "execution_count": 49,
   "id": "fc4100f8-15f3-4d93-824c-3887d7c0bece",
   "metadata": {},
   "outputs": [
    {
     "name": "stdin",
     "output_type": "stream",
     "text": [
      "Enter the coefficient a:  232\n",
      "Enter the coefficient b:  23\n",
      "Enter the coefficient c:  23\n"
     ]
    },
    {
     "name": "stdout",
     "output_type": "stream",
     "text": [
      "The quadratic equation has complex roots: -0.04956896551724138+892.3227638732674 i and -0.04956896551724138 - 892.3227638732674i\n"
     ]
    }
   ],
   "source": [
    "import math\n",
    "a = float(input(\"Enter the coefficient a: \"))\n",
    "b = float(input(\"Enter the coefficient b: \"))\n",
    "c = float(input(\"Enter the coefficient c: \"))\n",
    "d = b**2 - 4*a*c\n",
    "if discriminant > 0:\n",
    "    root1 = (-b + math.sqrt(d)) / (2*a)\n",
    "    root2 = (-b + math.sqrt(d)) / (2*a)\n",
    "    print(f\"The quadratic equation has two real roots : {root} and {root2}\")\n",
    "elif d == 0:\n",
    "    root = -b / (2*a)\n",
    "    print(f\"The quadratic equation has one real root: {root}\")\n",
    "else:\n",
    "    real_part = -b / (2*a)\n",
    "    imaginary_part = math.sqrt(-discriminant) / (2*a)\n",
    "    print(f\"The quadratic equation has complex roots: {real_part}+{imaginary_part} i and {real_part} - {imaginary_part}i\")"
   ]
  },
  {
   "cell_type": "code",
   "execution_count": 45,
   "id": "3d84f5bc-79f6-4819-ac84-7f2c827c7f70",
   "metadata": {},
   "outputs": [],
   "source": []
  },
  {
   "cell_type": "code",
   "execution_count": null,
   "id": "06afd922-18bc-41e7-ab1e-09b387f97432",
   "metadata": {},
   "outputs": [],
   "source": []
  },
  {
   "cell_type": "code",
   "execution_count": null,
   "id": "6181361d-8f7d-426d-8595-ca42798cea0d",
   "metadata": {},
   "outputs": [],
   "source": []
  }
 ],
 "metadata": {
  "kernelspec": {
   "display_name": "Python 3 (ipykernel)",
   "language": "python",
   "name": "python3"
  },
  "language_info": {
   "codemirror_mode": {
    "name": "ipython",
    "version": 3
   },
   "file_extension": ".py",
   "mimetype": "text/x-python",
   "name": "python",
   "nbconvert_exporter": "python",
   "pygments_lexer": "ipython3",
   "version": "3.11.7"
  }
 },
 "nbformat": 4,
 "nbformat_minor": 5
}
