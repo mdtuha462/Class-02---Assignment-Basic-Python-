{
 "cells": [
  {
   "cell_type": "markdown",
   "id": "9818ffc8",
   "metadata": {},
   "source": [
    "# Python Practice Problems"
   ]
  },
  {
   "cell_type": "markdown",
   "id": "92c96f2f",
   "metadata": {},
   "source": [
    "### 1. Find the Largest of Two Numbers\n",
    "**Task:** Given two numbers, find the larger one.  \n",
    "**Demo Input:**  5 and 6 <br>\n",
    "**Output:** 6\n"
   ]
  },
  {
   "cell_type": "code",
   "execution_count": 37,
   "id": "10d1d1cc-026d-413e-91bc-2f3431f2673c",
   "metadata": {},
   "outputs": [
    {
     "name": "stdout",
     "output_type": "stream",
     "text": [
      "The larger number is: 6\n"
     ]
    }
   ],
   "source": [
    "# Given two numbers\n",
    "num1 = 5\n",
    "num2 = 6\n",
    "\n",
    "# Check which number is larger\n",
    "if num1 > num2:\n",
    "    print(\"The larger number is:\", num1)\n",
    "else:\n",
    "    print(\"The larger number is:\", num2)"
   ]
  },
  {
   "cell_type": "markdown",
   "id": "c8c1c683",
   "metadata": {},
   "source": [
    "### 2. Print Numbers from 1 to N\n",
    "**Task**: Given a number `n`, print all numbers from 1 to `n`. <br> \n",
    "**Demo Input**: `5`  <br>\n",
    "**Demo Output**:  1 2 3 4 5"
   ]
  },
  {
   "cell_type": "code",
   "execution_count": 35,
   "id": "4f9f4529",
   "metadata": {},
   "outputs": [
    {
     "name": "stdout",
     "output_type": "stream",
     "text": [
      "1 2 3 4 5 \n"
     ]
    }
   ],
   "source": [
    "# Given number n\n",
    "n = 5\n",
    "\n",
    "# Iterate over each number from 1 to n\n",
    "for i in range(1, n + 1):\n",
    "    # Print each number followed by a space\n",
    "    print(i, end=\" \")\n",
    "\n",
    "# Print a new line for clean output\n",
    "print()"
   ]
  },
  {
   "cell_type": "markdown",
   "id": "899df468",
   "metadata": {},
   "source": [
    "### 3. Check if a Number is Positive or Negative\n",
    "**Task**: Determine if the input number is positive, negative, or zero.  \n",
    "**Demo Input**: `-3`  \n",
    "**Demo Output**: `The number is Negative`"
   ]
  },
  {
   "cell_type": "code",
   "execution_count": 33,
   "id": "56ae285e",
   "metadata": {},
   "outputs": [
    {
     "name": "stdout",
     "output_type": "stream",
     "text": [
      "The number is Negative\n"
     ]
    }
   ],
   "source": [
    "# Given number\n",
    "number = -3\n",
    "\n",
    "# Check if the number is positive, negative, or zero\n",
    "if number > 0:\n",
    "    print(\"The number is Positive\")\n",
    "elif number < 0:\n",
    "    print(\"The number is Negative\")\n",
    "else:\n",
    "    print(\"The number is Zero\")"
   ]
  },
  {
   "cell_type": "markdown",
   "id": "9d865d12",
   "metadata": {},
   "source": [
    "### 4. Calculate the Sum of Digits\n",
    "**Task**: Given a number, find the sum of its digits.  \n",
    "**Demo Input**: `123`  \n",
    "**Demo Output**: `6`  \n",
    "(Explanation: `1+2+3=6`)"
   ]
  },
  {
   "cell_type": "code",
   "execution_count": 31,
   "id": "c28b2c6c",
   "metadata": {},
   "outputs": [
    {
     "name": "stdout",
     "output_type": "stream",
     "text": [
      "The sum of digits is: 6\n"
     ]
    }
   ],
   "source": [
    "# Given number\n",
    "number = 123\n",
    "\n",
    "# Initialize total to keep the sum of the digits\n",
    "total = 0\n",
    "\n",
    "# Iterate over each digit in the number\n",
    "while number > 0:\n",
    "    # Add the last digit of the number to the total\n",
    "    total += number % 10\n",
    "    # Remove the last digit from the number\n",
    "    number = number // 10\n",
    "\n",
    "# Print the sum of the digits\n",
    "print(\"The sum of digits is:\", total)"
   ]
  },
  {
   "cell_type": "code",
   "execution_count": 29,
   "id": "f341a771-f79d-42f5-b73b-6b0d462fe334",
   "metadata": {},
   "outputs": [
    {
     "data": {
      "text/plain": [
       "1"
      ]
     },
     "execution_count": 29,
     "metadata": {},
     "output_type": "execute_result"
    }
   ],
   "source": []
  },
  {
   "cell_type": "markdown",
   "id": "a970046f",
   "metadata": {},
   "source": [
    "### 5. Find Factorial of a Number\n",
    "**Task**: Calculate the factorial of a given number.  \n",
    "**Demo Input**: `4`  \n",
    "**Demo Output**: `24`  \n",
    "(Explanation: `4! = 4*3*2*1 = 24`)"
   ]
  },
  {
   "cell_type": "code",
   "execution_count": 15,
   "id": "fd5966d2",
   "metadata": {},
   "outputs": [
    {
     "name": "stdout",
     "output_type": "stream",
     "text": [
      "The factorial of 4 is : 24\n"
     ]
    }
   ],
   "source": [
    "# Given number\n",
    "n = 4\n",
    "\n",
    "# Initialize the factorial result to 1\n",
    "factorial = 1\n",
    "\n",
    "# Iterate from 1 to n (inclusive) to calculate the factorial\n",
    "for i in range(1, n + 1):\n",
    "    factorial *= i  # Multiply the current factorial by i\n",
    "\n",
    "# Print the result\n",
    "print(\"The factorial of\", n, \"is:\", factorial)\n"
   ]
  },
  {
   "cell_type": "markdown",
   "id": "c8798099",
   "metadata": {},
   "source": [
    "### 6. Count Occurrences of a Digit\n",
    "**Task**: Count how many times a specific digit appears max in a number.  \n",
    "**Demo Input**:  1233321 <br>\n",
    "**Demo Output**: `3`  <br>\n",
    "(Explanation: `3` appears 3 times in `1233321`)"
   ]
  },
  {
   "cell_type": "code",
   "execution_count": 42,
   "id": "5772f0e6",
   "metadata": {},
   "outputs": [
    {
     "name": "stdout",
     "output_type": "stream",
     "text": [
      "The digit that appears the most is: 3\n",
      "It appears 3 times\n"
     ]
    }
   ],
   "source": [
    "# Given number\n",
    "number = 1233321\n",
    "\n",
    "# Convert the number to a string to iterate over each digit\n",
    "str_number = str(number)\n",
    "\n",
    "# Initialize a dictionary to keep the count of each digit\n",
    "digit_count = {}\n",
    "\n",
    "# Iterate over each character in the string representation of the number\n",
    "for char in str_number:\n",
    "    if char in digit_count:\n",
    "        digit_count[char] += 1\n",
    "    else:\n",
    "        digit_count[char] = 1\n",
    "\n",
    "# Find the digit with the maximum count\n",
    "max_digit = max(digit_count, key=digit_count.get)\n",
    "max_count = digit_count[max_digit]\n",
    "\n",
    "# Print the result\n",
    "print(\"The digit that appears the most is:\", max_digit)\n",
    "print(\"It appears\", max_count, \"times\")\n"
   ]
  },
  {
   "cell_type": "markdown",
   "id": "b7f985bc",
   "metadata": {},
   "source": [
    "### 7. Find the GCD of Two Numbers\n",
    "**Task**: Find the greatest common divisor (GCD) of two numbers.  \n",
    "**Demo Input**: 8 and 12 <br>\n",
    "**Demo Output**: `4`"
   ]
  },
  {
   "cell_type": "code",
   "execution_count": 44,
   "id": "a467887d",
   "metadata": {},
   "outputs": [
    {
     "name": "stdout",
     "output_type": "stream",
     "text": [
      "The GCD of 8 and 12 is: 4\n"
     ]
    }
   ],
   "source": [
    "# Function to calculate GCD\n",
    "def gcd(a, b):\n",
    "    while b: # Loop to Continue Untill b is Zero\n",
    "        a, b = b, a % b\n",
    "    return a\n",
    "\n",
    "# Given two numbers\n",
    "num1 = 8\n",
    "num2 = 12\n",
    "\n",
    "# Calculate GCD\n",
    "result = gcd(num1, num2)\n",
    "\n",
    "# Print the result\n",
    "print(\"The GCD of\", num1, \"and\", num2, \"is:\", result)\n"
   ]
  },
  {
   "cell_type": "markdown",
   "id": "14c6a2fd",
   "metadata": {},
   "source": [
    "### 8. Reverse a String\n",
    "**Task**: Reverse the given string.  \n",
    "**Demo Input**: `\"aiquest\"`  \n",
    "**Demo Output**: `\"tseuqia\"`"
   ]
  },
  {
   "cell_type": "code",
   "execution_count": 58,
   "id": "bd22e158",
   "metadata": {},
   "outputs": [
    {
     "name": "stdout",
     "output_type": "stream",
     "text": [
      "The reversed string is: tseuqia\n"
     ]
    }
   ],
   "source": [
    "# Given string\n",
    "input_string = \"aiquest\"\n",
    "\n",
    "# Reverse the string using slicing\n",
    "reversed_string = input_string[::-1]\n",
    "\n",
    "# Print the reversed string\n",
    "print(\"The reversed string is:\", reversed_string)"
   ]
  },
  {
   "cell_type": "markdown",
   "id": "88317dfd",
   "metadata": {},
   "source": [
    "### 9. Check Armstrong Number\n",
    "**Task**: Check if a number is an Armstrong number (the sum of its digits raised to the power of the number of digits equals the number).  \n",
    "**Demo Input**: `153`  \n",
    "**Demo Output**: `153 is an Armstrong Number`  \n",
    "(Explanation: \\(1^3 + 5^3 + 3^3 = 153\\))"
   ]
  },
  {
   "cell_type": "code",
   "execution_count": 73,
   "id": "2602ff94",
   "metadata": {},
   "outputs": [
    {
     "name": "stdin",
     "output_type": "stream",
     "text": [
      "Enter a number:  153\n"
     ]
    },
    {
     "name": "stdout",
     "output_type": "stream",
     "text": [
      "153 is an Armstrong number\n"
     ]
    }
   ],
   "source": [
    "# Python program to check if the number is an Armstrong number or not\n",
    "\n",
    "# take input from the user\n",
    "num = int(input(\"Enter a number: \"))\n",
    "\n",
    "# initialize sum\n",
    "sum = 0\n",
    "\n",
    "# find the sum of the cube of each digit\n",
    "temp = num\n",
    "while temp > 0:\n",
    "   digit = temp % 10\n",
    "   sum += digit ** 3\n",
    "   temp //= 10\n",
    "\n",
    "# display the result\n",
    "if num == sum:\n",
    "   print(num,\"is an Armstrong number\")\n",
    "else:\n",
    "   print(num,\"is not an Armstrong number\")\n"
   ]
  },
  {
   "cell_type": "markdown",
   "id": "0905a3cc",
   "metadata": {},
   "source": [
    "### 10. Generate a Pattern\n",
    "**Task**: Print a pyramid pattern with `n` rows.  \n",
    "**Demo input:** 4 <br>\n",
    "**Output:** You will see the pyramid pattern with 4 rows"
   ]
  },
  {
   "cell_type": "code",
   "execution_count": 75,
   "id": "83d8b483",
   "metadata": {},
   "outputs": [
    {
     "name": "stdout",
     "output_type": "stream",
     "text": [
      "   *\n",
      "  ***\n",
      " *****\n",
      "*******\n"
     ]
    }
   ],
   "source": [
    "# Function to print a pyramid pattern\n",
    "def print_pyramid(n):\n",
    "    for i in range(n):\n",
    "        # Print leading spaces\n",
    "        for j in range(n - i - 1):\n",
    "            print(\" \", end=\"\")\n",
    "        # Print stars\n",
    "        for k in range(2 * i + 1):\n",
    "            print(\"*\", end=\"\")\n",
    "        # Move to the next line\n",
    "        print()\n",
    "\n",
    "# Demo input\n",
    "n = 4\n",
    "\n",
    "# Call the function\n",
    "print_pyramid(n)\n"
   ]
  },
  {
   "cell_type": "markdown",
   "id": "ec723917",
   "metadata": {},
   "source": [
    "# Good Luck!"
   ]
  },
  {
   "cell_type": "code",
   "execution_count": null,
   "id": "0ea84e34-be9b-4a97-9892-f94e273ca6a5",
   "metadata": {},
   "outputs": [],
   "source": []
  }
 ],
 "metadata": {
  "kernelspec": {
   "display_name": "Python 3 (ipykernel)",
   "language": "python",
   "name": "python3"
  },
  "language_info": {
   "codemirror_mode": {
    "name": "ipython",
    "version": 3
   },
   "file_extension": ".py",
   "mimetype": "text/x-python",
   "name": "python",
   "nbconvert_exporter": "python",
   "pygments_lexer": "ipython3",
   "version": "3.11.7"
  }
 },
 "nbformat": 4,
 "nbformat_minor": 5
}
