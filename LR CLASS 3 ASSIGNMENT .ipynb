{
 "cells": [
  {
   "cell_type": "markdown",
   "id": "36e472de-3249-49a3-aacd-4428a9ab5bf3",
   "metadata": {},
   "source": [
    "# Task 01: Your objective is to manually compute the slope (M) and y-intercept (C) using Ordinary Least Squares Linear Regression. Once determined, apply these values to predict the price when the vegetable weight is 6."
   ]
  },
  {
   "cell_type": "code",
   "execution_count": 1,
   "id": "80c69fd3-0564-49b6-b411-31d4b7ee903e",
   "metadata": {},
   "outputs": [
    {
     "name": "stdout",
     "output_type": "stream",
     "text": [
      "Slope (M): 2.62\n",
      "Y-Intercept (C): 35.16\n",
      "Predicted price for weight 6: 50.89\n"
     ]
    }
   ],
   "source": [
    "# Given data\n",
    "weights = [2, 4, 5, 3, 6, 5, 7]\n",
    "prices = [35, 60, 20, 50, 50, 55, 60]\n",
    "\n",
    "# Calculate the means of weights and prices\n",
    "mean_x = sum(weights) / len(weights)\n",
    "mean_y = sum(prices) / len(prices)\n",
    "\n",
    "# Calculate the slope (M) and y-intercept (C)\n",
    "numerator = sum((x - mean_x) * (y - mean_y) for x, y in zip(weights, prices))\n",
    "denominator = sum((x - mean_x) ** 2 for x in weights)\n",
    "slope = numerator / denominator\n",
    "intercept = mean_y - slope * mean_x\n",
    "\n",
    "# Predict the price for a weight of 6\n",
    "predicted_price = slope * 6 + intercept\n",
    "\n",
    "# Print the results\n",
    "print(f\"Slope (M): {slope:.2f}\")\n",
    "print(f\"Y-Intercept (C): {intercept:.2f}\")\n",
    "print(f\"Predicted price for weight 6: {predicted_price:.2f}\")\n"
   ]
  },
  {
   "cell_type": "markdown",
   "id": "9c7cbe41-91c0-41cf-a8e3-056e158d6ff0",
   "metadata": {},
   "source": [
    "# Task 02: Compute the residuals for each data point."
   ]
  },
  {
   "cell_type": "code",
   "execution_count": 2,
   "id": "ec91c835-e6c4-4f93-91ca-285ab86cb517",
   "metadata": {},
   "outputs": [
    {
     "name": "stdout",
     "output_type": "stream",
     "text": [
      "Slope (M): 2.62\n",
      "Y-Intercept (C): 35.16\n",
      "\n",
      "Residuals for each data point:\n",
      "Weight: 2, Observed Price: 35, Predicted Price: 40.40, Residual: -5.40\n",
      "Weight: 4, Observed Price: 60, Predicted Price: 45.65, Residual: 14.35\n",
      "Weight: 5, Observed Price: 20, Predicted Price: 48.27, Residual: -28.27\n",
      "Weight: 3, Observed Price: 50, Predicted Price: 43.02, Residual: 6.98\n",
      "Weight: 6, Observed Price: 50, Predicted Price: 50.89, Residual: -0.89\n",
      "Weight: 5, Observed Price: 55, Predicted Price: 48.27, Residual: 6.73\n",
      "Weight: 7, Observed Price: 60, Predicted Price: 53.51, Residual: 6.49\n",
      "\n",
      "Predicted price for weight 6: 50.89\n"
     ]
    }
   ],
   "source": [
    "# Given data\n",
    "weights = [2, 4, 5, 3, 6, 5, 7]\n",
    "prices = [35, 60, 20, 50, 50, 55, 60]\n",
    "\n",
    "# Calculate the means of weights and prices\n",
    "mean_x = sum(weights) / len(weights)\n",
    "mean_y = sum(prices) / len(prices)\n",
    "\n",
    "# Calculate the slope (M) and y-intercept (C)\n",
    "numerator = sum((x - mean_x) * (y - mean_y) for x, y in zip(weights, prices))\n",
    "denominator = sum((x - mean_x) ** 2 for x in weights)\n",
    "slope = numerator / denominator\n",
    "intercept = mean_y - slope * mean_x\n",
    "\n",
    "# Function to predict the price given a weight\n",
    "def predict_price(weight):\n",
    "    return slope * weight + intercept\n",
    "\n",
    "# Calculate residuals for each data point\n",
    "residuals = [(y - predict_price(x)) for x, y in zip(weights, prices)]\n",
    "\n",
    "# Print the results\n",
    "print(f\"Slope (M): {slope:.2f}\")\n",
    "print(f\"Y-Intercept (C): {intercept:.2f}\")\n",
    "print(\"\\nResiduals for each data point:\")\n",
    "for weight, price, residual in zip(weights, prices, residuals):\n",
    "    print(f\"Weight: {weight}, Observed Price: {price}, Predicted Price: {predict_price(weight):.2f}, Residual: {residual:.2f}\")\n",
    "\n",
    "# Predict the price for a weight of 6 (if needed)\n",
    "predicted_price_for_6 = predict_price(6)\n",
    "print(f\"\\nPredicted price for weight 6: {predicted_price_for_6:.2f}\")\n"
   ]
  },
  {
   "cell_type": "markdown",
   "id": "873a8cc4-edf1-4902-8a86-3868e9e11b08",
   "metadata": {},
   "source": [
    "# Task 03: Calculate both the Mean Squared Error (MSE) and Mean Absolute Error (MAE)."
   ]
  },
  {
   "cell_type": "code",
   "execution_count": 3,
   "id": "3c9f3b45-5031-4502-af07-29dddcbb8feb",
   "metadata": {},
   "outputs": [
    {
     "name": "stdout",
     "output_type": "stream",
     "text": [
      "Slope (M): 2.62\n",
      "Y-Intercept (C): 35.16\n",
      "\n",
      "Residuals for each data point:\n",
      "Weight: 2, Observed Price: 35, Predicted Price: 40.40, Residual: -5.40\n",
      "Weight: 4, Observed Price: 60, Predicted Price: 45.65, Residual: 14.35\n",
      "Weight: 5, Observed Price: 20, Predicted Price: 48.27, Residual: -28.27\n",
      "Weight: 3, Observed Price: 50, Predicted Price: 43.02, Residual: 6.98\n",
      "Weight: 6, Observed Price: 50, Predicted Price: 50.89, Residual: -0.89\n",
      "Weight: 5, Observed Price: 55, Predicted Price: 48.27, Residual: 6.73\n",
      "Weight: 7, Observed Price: 60, Predicted Price: 53.51, Residual: 6.49\n",
      "\n",
      "Mean Squared Error (MSE): 167.31\n",
      "Mean Absolute Error (MAE): 9.87\n",
      "\n",
      "Predicted price for weight 6: 50.89\n"
     ]
    }
   ],
   "source": [
    "# Given data\n",
    "weights = [2, 4, 5, 3, 6, 5, 7]\n",
    "prices = [35, 60, 20, 50, 50, 55, 60]\n",
    "\n",
    "# Calculate the means of weights and prices\n",
    "mean_x = sum(weights) / len(weights)\n",
    "mean_y = sum(prices) / len(prices)\n",
    "\n",
    "# Calculate the slope (M) and y-intercept (C)\n",
    "numerator = sum((x - mean_x) * (y - mean_y) for x, y in zip(weights, prices))\n",
    "denominator = sum((x - mean_x) ** 2 for x in weights)\n",
    "slope = numerator / denominator\n",
    "intercept = mean_y - slope * mean_x\n",
    "\n",
    "# Function to predict the price given a weight\n",
    "def predict_price(weight):\n",
    "    return slope * weight + intercept\n",
    "\n",
    "# Calculate residuals for each data point\n",
    "residuals = [(y - predict_price(x)) for x, y in zip(weights, prices)]\n",
    "\n",
    "# Calculate Mean Squared Error (MSE)\n",
    "mse = sum((residual ** 2) for residual in residuals) / len(residuals)\n",
    "\n",
    "# Calculate Mean Absolute Error (MAE)\n",
    "mae = sum(abs(residual) for residual in residuals) / len(residuals)\n",
    "\n",
    "# Print the results\n",
    "print(f\"Slope (M): {slope:.2f}\")\n",
    "print(f\"Y-Intercept (C): {intercept:.2f}\")\n",
    "print(\"\\nResiduals for each data point:\")\n",
    "for weight, price, residual in zip(weights, prices, residuals):\n",
    "    print(f\"Weight: {weight}, Observed Price: {price}, Predicted Price: {predict_price(weight):.2f}, Residual: {residual:.2f}\")\n",
    "\n",
    "print(f\"\\nMean Squared Error (MSE): {mse:.2f}\")\n",
    "print(f\"Mean Absolute Error (MAE): {mae:.2f}\")\n",
    "\n",
    "# Predict the price for a weight of 6 (if needed)\n",
    "predicted_price_for_6 = predict_price(6)\n",
    "print(f\"\\nPredicted price for weight 6: {predicted_price_for_6:.2f}\")\n"
   ]
  },
  {
   "cell_type": "code",
   "execution_count": 8,
   "id": "1375edf5-4f9f-41e2-a5a3-8acb5e0f2c31",
   "metadata": {},
   "outputs": [
    {
     "name": "stdout",
     "output_type": "stream",
     "text": [
      "Requirement already satisfied: pandas in c:\\users\\shaki\\anaconda3\\lib\\site-packages (2.2.2)\n",
      "Requirement already satisfied: openpyxl in c:\\users\\shaki\\anaconda3\\lib\\site-packages (3.1.5)\n",
      "Requirement already satisfied: numpy>=1.26.0 in c:\\users\\shaki\\anaconda3\\lib\\site-packages (from pandas) (1.26.4)\n",
      "Requirement already satisfied: python-dateutil>=2.8.2 in c:\\users\\shaki\\anaconda3\\lib\\site-packages (from pandas) (2.9.0.post0)\n",
      "Requirement already satisfied: pytz>=2020.1 in c:\\users\\shaki\\anaconda3\\lib\\site-packages (from pandas) (2024.1)\n",
      "Requirement already satisfied: tzdata>=2022.7 in c:\\users\\shaki\\anaconda3\\lib\\site-packages (from pandas) (2023.3)\n",
      "Requirement already satisfied: et-xmlfile in c:\\users\\shaki\\anaconda3\\lib\\site-packages (from openpyxl) (1.1.0)\n",
      "Requirement already satisfied: six>=1.5 in c:\\users\\shaki\\anaconda3\\lib\\site-packages (from python-dateutil>=2.8.2->pandas) (1.16.0)\n",
      "Note: you may need to restart the kernel to use updated packages.\n"
     ]
    }
   ],
   "source": [
    "pip install pandas openpyxl"
   ]
  },
  {
   "cell_type": "markdown",
   "id": "22903ef4-f750-4c82-ba17-a480f536bbd2",
   "metadata": {},
   "source": [
    "# Final Task: Generate an Excel file for the given dataset. Utilize Python for all the calculations."
   ]
  },
  {
   "cell_type": "code",
   "execution_count": 1,
   "id": "ed2ac480-8ed1-45fd-b34c-0bfd27baf67c",
   "metadata": {},
   "outputs": [
    {
     "name": "stdout",
     "output_type": "stream",
     "text": [
      "Excel file 'vegetable_prices_analysis.xlsx' has been created with the analysis.\n"
     ]
    }
   ],
   "source": [
    "import pandas as pd\n",
    "\n",
    "# Given data\n",
    "weights = [2, 4, 5, 3, 6, 5, 7]\n",
    "prices = [35, 60, 20, 50, 50, 55, 60]\n",
    "\n",
    "# Create a DataFrame\n",
    "data = {'Weight': weights, 'Observed_Price': prices}\n",
    "df = pd.DataFrame(data)\n",
    "\n",
    "# Calculate the means of weights and prices\n",
    "mean_x = df['Weight'].mean()\n",
    "mean_y = df['Observed_Price'].mean()\n",
    "\n",
    "# Calculate the slope (M) and y-intercept (C)\n",
    "numerator = sum((df['Weight'] - mean_x) * (df['Observed_Price'] - mean_y))\n",
    "denominator = sum((df['Weight'] - mean_x) ** 2)\n",
    "slope = numerator / denominator\n",
    "intercept = mean_y - slope * mean_x\n",
    "\n",
    "# Function to predict the price given a weight\n",
    "def predict_price(weight):\n",
    "    return slope * weight + intercept\n",
    "\n",
    "# Calculate predicted prices\n",
    "df['Predicted_Price'] = df['Weight'].apply(predict_price)\n",
    "\n",
    "# Calculate residuals\n",
    "df['Residual'] = df['Observed_Price'] - df['Predicted_Price']\n",
    "\n",
    "# Calculate Mean Squared Error (MSE) and Mean Absolute Error (MAE)\n",
    "mse = (df['Residual'] ** 2).mean()\n",
    "mae = df['Residual'].abs().mean()\n",
    "\n",
    "# Save the results in an Excel file\n",
    "output_filename = \"vegetable_prices_analysis.xlsx\"\n",
    "with pd.ExcelWriter(output_filename, engine='openpyxl') as writer:\n",
    "    df.to_excel(writer, index=False, sheet_name='Data')\n",
    "    \n",
    "    # Create a new sheet for summary statistics\n",
    "    summary_data = {\n",
    "        'Statistic': ['Slope (M)', 'Y-Intercept (C)', 'Mean Squared Error (MSE)', 'Mean Absolute Error (MAE)'],\n",
    "        'Value': [slope, intercept, mse, mae]\n",
    "    }\n",
    "    summary_df = pd.DataFrame(summary_data)\n",
    "    summary_df.to_excel(writer, index=False, sheet_name='Summary')\n",
    "\n",
    "print(f\"Excel file '{output_filename}' has been created with the analysis.\")\n"
   ]
  },
  {
   "cell_type": "code",
   "execution_count": null,
   "id": "45bdfd36-13ca-440c-95e1-3eb42ee503ee",
   "metadata": {},
   "outputs": [],
   "source": []
  }
 ],
 "metadata": {
  "kernelspec": {
   "display_name": "Python 3 (ipykernel)",
   "language": "python",
   "name": "python3"
  },
  "language_info": {
   "codemirror_mode": {
    "name": "ipython",
    "version": 3
   },
   "file_extension": ".py",
   "mimetype": "text/x-python",
   "name": "python",
   "nbconvert_exporter": "python",
   "pygments_lexer": "ipython3",
   "version": "3.12.7"
  }
 },
 "nbformat": 4,
 "nbformat_minor": 5
}
